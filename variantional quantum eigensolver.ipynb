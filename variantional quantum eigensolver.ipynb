{
 "cells": [
  {
   "cell_type": "code",
   "execution_count": 84,
   "id": "97228cf4",
   "metadata": {},
   "outputs": [],
   "source": [
    "from qiskit import BasicAer\n",
    "from qiskit.aqua import aqua_globals, QuantumInstance\n",
    "from qiskit.aqua.algorithms import NumPyMinimumEigensolver, VQE\n",
    "from qiskit.aqua.components.optimizers import SLSQP\n",
    "from qiskit.chemistry.components.initial_states import HartreeFock\n",
    "from qiskit.chemistry.components.variational_forms import UCCSD\n",
    "from qiskit.chemistry.drivers import PySCFDriver\n",
    "from qiskit.chemistry.core import Hamiltonian, QubitMappingType\n"
   ]
  },
  {
   "cell_type": "code",
   "execution_count": 98,
   "id": "af79aff2",
   "metadata": {},
   "outputs": [],
   "source": [
    "molecule = 'H .0 .0 -{0}; Li .0 .0 {0}'  #the term inside bracket can vary (distance), varying in z direction here\n",
    "distances = np.arange(0.5,4.25,0.25)     #distance varies from 0.5 to 4.25\n",
    "vqe_gs_energies = []                        #ground state energy calculated by vqe\n",
    "hf_energies = []                         #energy from initial hartree fock guess\n",
    "classical_energies = []                      #classical answer, to see difference from exact value"
   ]
  },
  {
   "cell_type": "markdown",
   "id": "bc5d313b",
   "metadata": {},
   "source": [
    "**vqe_gs_energies** = Ground state energy calculated by vqe\\\n",
    "**hf_energies** = energy from initial hartree fock guess\\\n",
    "**classical_energies**= classical answer, to see difference from exact value"
   ]
  },
  {
   "cell_type": "code",
   "execution_count": 99,
   "id": "6c25814b",
   "metadata": {},
   "outputs": [
    {
     "name": "stdout",
     "output_type": "stream",
     "text": [
      "step 0\n"
     ]
    },
    {
     "name": "stderr",
     "output_type": "stream",
     "text": [
      "/tmp/ipykernel_18101/403405612.py:9: DeprecationWarning: The Hamiltonian class is deprecated as of Qiskit Aqua 0.8.0 and will be removed no earlier than 3 months after the release date. Instead, the FermionicTransformation can be used.\n",
      "  operator = Hamiltonian(qubit_mapping = QubitMappingType.PARITY, two_qubit_reduction=True, freeze_core=True,\n",
      "/home/shreshtha13/.local/lib/python3.8/site-packages/qiskit/chemistry/core/hamiltonian.py:88: DeprecationWarning: The ChemistryOperator is deprecated as of Qiskit Aqua 0.8.0 and will be removed no earlier than 3 months after the release date. Instead, the FermionicTransformation can be used to transform QMolecules and construct ground state result objects.\n",
      "  super().__init__()\n",
      "/home/shreshtha13/.local/lib/python3.8/site-packages/qiskit/chemistry/core/chemistry_operator.py:170: DeprecationWarning: The qiskit.chemistry.chemistry_operator.MolecularChemistryResult object is deprecated as of 0.8.0 and will be removed no sooner than 3 months after the release. You should use qiskit.chemistry.algorithms.ground_state_solvers.FermionicGroundStateResult instead.\n",
      "  super().__init__(a_dict)\n",
      "/home/shreshtha13/.local/lib/python3.8/site-packages/qiskit/chemistry/core/hamiltonian.py:380: DeprecationWarning: The qiskit.chemistry.chemistry_operator.MolecularGroundStateResult object is deprecated as of 0.8.0 and will be removed no sooner than 3 months after the release. You should use qiskit.chemistry.algorithms.ground_state_solvers.FermionicGroundStateResult instead.\n",
      "  mgsr = MolecularGroundStateResult()\n",
      "/home/shreshtha13/.local/lib/python3.8/site-packages/qiskit/chemistry/components/initial_states/hartree_fock.py:61: DeprecationWarning: The HartreeFock class is deprecated as of Aqua 0.9 and will be removed no earlier than 3 months after the release date. Instead, all algorithms and circuits accept a plain QuantumCircuit. \n",
      "  super().__init__()\n",
      "/home/shreshtha13/.local/lib/python3.8/site-packages/qiskit/chemistry/components/variational_forms/uccsd.py:429: DeprecationWarning: Back-references to from Bit instances to their containing Registers have been deprecated. Instead, inspect Registers to find their contained Bits.\n",
      "  qbits[i] = circuit.qubits[qbits[i].index]\n"
     ]
    },
    {
     "name": "stdout",
     "output_type": "stream",
     "text": [
      "step 1\n",
      "step 2\n",
      "step 3\n",
      "step 4\n",
      "step 5\n",
      "step 6\n",
      "step 7\n",
      "step 8\n",
      "step 9\n",
      "step 10\n",
      "step 11\n",
      "step 12\n",
      "step 13\n",
      "step 14\n"
     ]
    }
   ],
   "source": [
    "# check for all distances\n",
    "for i,d in enumerate(distances):  \n",
    "    print('step',i)\n",
    "    \n",
    "    driver = PySCFDriver(molecule.format(d/2), basis='sto3g')  #basis sto3g uses the orbital 1s,2s,2p\n",
    "    quantum_molecule = driver.run() #classical simulation, this is where classical computer takes a lot of time for large molecules\n",
    "    \n",
    "# Quantum Circuit\n",
    "    operator = Hamiltonian(qubit_mapping = QubitMappingType.PARITY, two_qubit_reduction=True, freeze_core=True,\n",
    "                          orbital_reduction=[-3,-2]) #represents the energy of the molecule, qupit mapping is given as info, this is how info is encoded\n",
    "    qubit_op , aux_ops = operator.run(quantum_molecule)   #two qubit, orbital reduction, freeze core reduce computation time\n",
    "                                                   #orbital reduction reduces the orbitals which dont afect our calculations\n",
    "    \n",
    "    classical_result = NumPyMinimumEigensolver(qubit_op, aux_operators=aux_ops).run()\n",
    "    classical_result = operator.process_algorithm_result(classical_result)  #classical result obtained which is used to compare to our result\n",
    "#     print(classical_result)\n",
    "#     break\n",
    "# classical optimizer\n",
    "    optimizer = SLSQP(maxiter=1000)  #number of tries before the optimizer is done converging\n",
    "#    generate ansatz\n",
    "    initial_state = HartreeFock(operator.molecule_info['num_orbitals'],   #initial state generation based on hartree fock ansatz\n",
    "                                operator.molecule_info['num_particles'],  #this is the info required to generate hartree fock guess\n",
    "                                qubit_mapping=operator._qubit_mapping,    \n",
    "                                two_qubit_reduction=operator._two_qubit_reduction)\n",
    "#     Variation Method\n",
    "    var_form = UCCSD(num_orbitals=operator.molecule_info['num_orbitals'],  #this is how variations are done, to find the minimum energy state\n",
    "                num_particles=operator.molecule_info['num_particles'],\n",
    "                initial_state=initial_state,\n",
    "                qubit_mapping=operator._qubit_mapping,\n",
    "                two_qubit_reduction=operator._two_qubit_reduction)\n",
    "    \n",
    "    algo = VQE(qubit_op, var_form, optimizer,aux_operators=aux_ops)\n",
    "    vqe_result = algo.run(QuantumInstance(BasicAer.get_backend('statevector_simulator')))   #where the experiment actually runs\n",
    "    vqe_result = operator.process_algorithm_result(vqe_result)\n",
    "    classical_energies.append(classical_result.energy)\n",
    "    vqe_gs_energies.append(vqe_result.energy)\n",
    "    hf_energies.append(vqe_result.hartree_fock_energy)\n",
    "    \n",
    "    "
   ]
  },
  {
   "cell_type": "code",
   "execution_count": 100,
   "id": "163690b3",
   "metadata": {
    "scrolled": true
   },
   "outputs": [
    {
     "data": {
      "text/plain": [
       "[<matplotlib.lines.Line2D at 0x7fcddbd75b50>]"
      ]
     },
     "execution_count": 100,
     "metadata": {},
     "output_type": "execute_result"
    },
    {
     "data": {
      "image/png": "[encoded data removed]",
      "text/plain": [
       "<Figure size 432x288 with 1 Axes>"
      ]
     },
     "metadata": {
      "needs_background": "light"
     },
     "output_type": "display_data"
    }
   ],
   "source": [
    "pylab.plot(distances, hf_energies, label='Hartree-Fock')\n",
    "pylab.plot(distances,vqe_gs_energies, 'o', label='VQE')\n",
    "pylab.plot(distances, classical_energies, 'x', label='Exact')"
   ]
  },
  {
   "cell_type": "code",
   "execution_count": null,
   "id": "f3584ec3",
   "metadata": {},
   "outputs": [],
   "source": []
  }
 ],
 "metadata": {
  "kernelspec": {
   "display_name": "Python 3 (ipykernel)",
   "language": "python",
   "name": "python3"
  },
  "language_info": {
   "codemirror_mode": {
    "name": "ipython",
    "version": 3
   },
   "file_extension": ".py",
   "mimetype": "text/x-python",
   "name": "python",
   "nbconvert_exporter": "python",
   "pygments_lexer": "ipython3",
   "version": "3.8.5"
  }
 },
 "nbformat": 4,
 "nbformat_minor": 5
}
